{
 "cells": [
  {
   "cell_type": "code",
   "execution_count": null,
   "metadata": {
    "scrolled": true
   },
   "outputs": [],
   "source": [
    "%load_ext autoreload\n",
    "%autoreload 2\n",
    "\n",
    "import time\n",
    "import pickle\n",
    "import numpy as np\n",
    "from scipy import optimize\n",
    "\n",
    "import matplotlib.pyplot as plt   \n",
    "plt.style.use('seaborn-whitegrid')\n",
    "prop_cycle = plt.rcParams['axes.prop_cycle']\n",
    "colors = prop_cycle.by_key()['color']"
   ]
  },
  {
   "cell_type": "markdown",
   "metadata": {},
   "source": [
    "**<h4>1. COMPARE PARAMETER VALUES</h4>**"
   ]
  },
  {
   "cell_type": "markdown",
   "metadata": {},
   "source": [
    "**Choose desired parameter values and variables to plot below.**"
   ]
  },
  {
   "cell_type": "code",
   "execution_count": null,
   "metadata": {},
   "outputs": [],
   "source": [
    "# Parameter values\n",
    "values = [0.7, 2.67]\n",
    "\n",
    "# Variables to plot PLEASE CHOOSE 12 VARIABLES\n",
    "varl = ['P_C','P_Y','P_Y_KL','Y','C','C_Y','K','ell','E','r_K','r_ell','r_E',]"
   ]
  },
  {
   "cell_type": "markdown",
   "metadata": {},
   "source": [
    "**Choose desired parameter, specify a chock, and run the model (might take some time).**"
   ]
  },
  {
   "cell_type": "code",
   "execution_count": null,
   "metadata": {},
   "outputs": [],
   "source": [
    "s1={} # dict for sol\n",
    "s2={} # dict for ss\n",
    "\n",
    "for i,value in enumerate(values):\n",
    "    \n",
    "    from BabyMAKROModel import BabyMAKROModelClass\n",
    "    \n",
    "    model = BabyMAKROModelClass(name='baseline')\n",
    "    \n",
    "    par = model.par\n",
    "    ss = model.ss\n",
    "    sol = model.sol\n",
    "    \n",
    "    # choose parameter\n",
    "    par.sigma_C_G = value\n",
    "    \n",
    "    # run model in SS\n",
    "    model.find_ss(0.50)\n",
    "    model.set_exo_ss()\n",
    "    model.set_unknowns_ss()\n",
    "    model.evaluate_blocks()\n",
    "    errors = model.get_errors(do_print=True)\n",
    "    \n",
    "    # apply shock\n",
    "    model.calc_jac()\n",
    "    model.set_exo_ss()\n",
    "    Tshock = 20\n",
    "    shock = 0.2*ss.r_E\n",
    "    persistence = 0.75**np.arange(Tshock)\n",
    "    sol.r_E[:Tshock] = ss.r_E + shock*persistence\n",
    "\n",
    "    # run model with shock\n",
    "    model.set_unknowns_ss()\n",
    "    model.evaluate_blocks()\n",
    "    errors = model.get_errors()\n",
    "    model.find_IRF()\n",
    "\n",
    "    # save variables in dictonaries\n",
    "    for var in varl:\n",
    "        key = str(var+str(i)) \n",
    "        s1[key] = sol.__dict__[var]\n",
    "        s2[key] = ss.__dict__[var]"
   ]
  },
  {
   "cell_type": "markdown",
   "metadata": {},
   "source": [
    "**Plot the variables and see the effects of different parameter values.**"
   ]
  },
  {
   "cell_type": "code",
   "execution_count": null,
   "metadata": {},
   "outputs": [],
   "source": [
    "T_IRF = 40\n",
    "\n",
    "fig = plt.figure(figsize=(20,20/1.1))\n",
    "first_leg = mpatches.Patch(color='#1f77b4', label='Parameter value:'+str(values[0]))\n",
    "second_leg = mpatches.Patch(color='#ff7f0e', label='Parameter value:'+str(values[1]))\n",
    "thrid_leg = mpatches.Patch(color='#2ca02c', label='Parameter value:'+str(values[2]))\n",
    "\n",
    "\n",
    "for i,var in enumerate(varl):\n",
    "    \n",
    "    ax = fig.add_subplot(4,3,i+1)\n",
    "    \n",
    "    ax.set_ylabel('% of s.s.')\n",
    "    ax.set_title(var)\n",
    "     \n",
    "    for j,value in enumerate(values):\n",
    "        ax.plot((s1[str(var+str(j))][:T_IRF]/s2[str(var+str(j))]-1)*100)\n",
    "    ax.legend(handles=[first_leg ,second_leg ,thrid_leg])\n"
   ]
  },
  {
   "cell_type": "markdown",
   "metadata": {},
   "source": [
    "**<h4>2. COMPARE SHOCKS</h4>**"
   ]
  },
  {
   "cell_type": "markdown",
   "metadata": {},
   "source": [
    "**Specify shocks and choose variables to plot below.**"
   ]
  },
  {
   "cell_type": "code",
   "execution_count": null,
   "metadata": {},
   "outputs": [],
   "source": [
    "# specify shocks\n",
    "var_l = ['P_E','r_E'] # variables to shock\n",
    "Tshock_l = [20,20, 20] # length of shock (periods)\n",
    "shock_l = [0.01,0.01, 0.01] # shock as pct. of ss\n",
    "pers_l = [0.75,0.75,0.75] # persistence of shock\n",
    "\n",
    "# Variables to plot PLEASE CHOOSE 12 VARIABLES\n",
    "varl = ['P_C','P_Y','P_Y_KL','Y','C','C_Y','K','ell','E','r_K','r_ell','r_E']"
   ]
  },
  {
   "cell_type": "markdown",
   "metadata": {},
   "source": [
    "**Run model for each shock.**"
   ]
  },
  {
   "cell_type": "code",
   "execution_count": null,
   "metadata": {},
   "outputs": [],
   "source": [
    "s1={} # dict for sol\n",
    "s2={} # dict for ss\n",
    "\n",
    "for i,(var, Tshock, shock, pers) in enumerate(zip(var_l, Tshock_l, shock_l, pers_l)):\n",
    "    \n",
    "    from BabyMAKROModel import BabyMAKROModelClass\n",
    "    \n",
    "    model = BabyMAKROModelClass(name='baseline')\n",
    "    \n",
    "    par = model.par\n",
    "    ss = model.ss\n",
    "    sol = model.sol\n",
    "    \n",
    "    # run model in SS\n",
    "    model.find_ss(0.50)\n",
    "    model.set_exo_ss()\n",
    "    model.set_unknowns_ss()\n",
    "    model.evaluate_blocks()\n",
    "    errors = model.get_errors(do_print=True)\n",
    "    \n",
    "    # apply shock\n",
    "    model.calc_jac()\n",
    "    model.set_exo_ss()\n",
    "    shock = shock*ss.__dict__[var]\n",
    "    pers = pers**np.arange(Tshock)\n",
    "    sol.__dict__[var][:Tshock] = ss.__dict__[var] + shock*pers\n",
    "\n",
    "    # run model with shock\n",
    "    model.set_unknowns_ss()\n",
    "    model.evaluate_blocks()\n",
    "    errors = model.get_errors()\n",
    "    model.find_IRF()\n",
    "\n",
    "    # save variables in dictonaries\n",
    "    for var in varl:\n",
    "        key = str(var+str(i)) \n",
    "        s1[key] = sol.__dict__[var]\n",
    "        s2[key] = ss.__dict__[var]"
   ]
  },
  {
   "cell_type": "markdown",
   "metadata": {},
   "source": [
    "**Plot the variables and compare the shocks.**"
   ]
  },
  {
   "cell_type": "code",
   "execution_count": null,
   "metadata": {},
   "outputs": [],
   "source": [
    "import matplotlib.patches as mpatches\n",
    "\n",
    "T_IRF = 40\n",
    "\n",
    "fig = plt.figure(figsize=(20,20/1.1))\n",
    "first_leg = mpatches.Patch(color='#1f77b4', label='1 pct. shock to: '+str(var_l[0]))\n",
    "second_leg = mpatches.Patch(color='#ff7f0e', label='1 pct. shock to: '+str(var_l[1]))\n",
    "# third_leg = mpatches.Patch(color='#2ca02c', label='1 pct. shock to: '+str(var_l[2]))\n",
    "\n",
    "for i,var in enumerate(varl):\n",
    "    \n",
    "    ax = fig.add_subplot(4,3,i+1)\n",
    "    \n",
    "    ax.set_ylabel('% of s.s.')\n",
    "    ax.set_title(var)\n",
    "     \n",
    "    for j,value in enumerate(var_l):\n",
    "        ax.plot((s1[str(var+str(j))][:T_IRF]/s2[str(var+str(j))]-1)*100)\n",
    "    ax.legend(handles=[first_leg ,second_leg])\n"
   ]
  },
  {
   "cell_type": "code",
   "execution_count": null,
   "metadata": {},
   "outputs": [],
   "source": [
    "sol.C/sol.Y"
   ]
  },
  {
   "cell_type": "code",
   "execution_count": null,
   "metadata": {},
   "outputs": [],
   "source": [
    "sol.Y/sol.C_Y"
   ]
  },
  {
   "cell_type": "code",
   "execution_count": null,
   "metadata": {},
   "outputs": [],
   "source": []
  }
 ],
 "metadata": {
  "kernelspec": {
   "display_name": "Python 3.9.12 ('base')",
   "language": "python",
   "name": "python3"
  },
  "language_info": {
   "codemirror_mode": {
    "name": "ipython",
    "version": 3
   },
   "file_extension": ".py",
   "mimetype": "text/x-python",
   "name": "python",
   "nbconvert_exporter": "python",
   "pygments_lexer": "ipython3",
   "version": "3.9.12"
  },
  "vscode": {
   "interpreter": {
    "hash": "c9c8fef052fb3679eeff7308c061236b8a5b7e4986256111e650fa4e553c1ca4"
   }
  }
 },
 "nbformat": 4,
 "nbformat_minor": 2
}
